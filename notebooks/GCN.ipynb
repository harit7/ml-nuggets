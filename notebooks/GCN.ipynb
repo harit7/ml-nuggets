{
 "cells": [
  {
   "cell_type": "code",
   "execution_count": null,
   "metadata": {},
   "outputs": [],
   "source": [
    "!pip install torch_geometric\n",
    "!pip install torch_sparse\n",
    "!pip install torch_scatter"
   ]
  },
  {
   "cell_type": "code",
   "execution_count": 7,
   "metadata": {},
   "outputs": [],
   "source": [
    "import torch\n",
    "import torch.nn.functional as F\n",
    "from torch_geometric.nn import GCNConv\n",
    "import numpy as np \n",
    "\n",
    "class GCN(torch.nn.Module):\n",
    "    def __init__(self,d,c):\n",
    "        super().__init__()\n",
    "        self.conv1 = GCNConv(d, 16)\n",
    "        self.conv2 = GCNConv(16, c)\n",
    "\n",
    "    def forward(self, data):\n",
    "        x, edge_index = data.x, data.edge_index\n",
    "\n",
    "        x = self.conv1(x, edge_index)\n",
    "        x = F.relu(x)\n",
    "        x = F.dropout(x, training=self.training)\n",
    "        x = self.conv2(x, edge_index)\n",
    "\n",
    "        return F.log_softmax(x, dim=1)"
   ]
  },
  {
   "cell_type": "code",
   "execution_count": 8,
   "metadata": {},
   "outputs": [],
   "source": [
    "from torch_geometric.datasets import Planetoid\n",
    "n = 2708\n",
    "c = 7\n",
    "def run_gcn(train_size_per_class):\n",
    "    test_size = n - c*train_size_per_class\n",
    "\n",
    "    dataset = Planetoid(root='~/workspace/data/Cora', name='Cora',split='random',num_train_per_class=train_size_per_class,num_val=0, num_test=test_size)\n",
    "    data = dataset[0]\n",
    "    #print(sum(data.train_mask),sum(data.test_mask))\n",
    "    device = torch.device('cuda' if torch.cuda.is_available() else 'cpu')\n",
    "    model = GCN(dataset.num_node_features,dataset.num_classes).to(device)\n",
    "    data = dataset[0].to(device)\n",
    "    optimizer = torch.optim.Adam(model.parameters(), lr=0.1, weight_decay=5e-4)\n",
    "\n",
    "    model.train()\n",
    "    for epoch in range(100):\n",
    "        optimizer.zero_grad()\n",
    "        out = model(data)\n",
    "        loss = F.nll_loss(out[data.train_mask], data.y[data.train_mask])\n",
    "        loss.backward()\n",
    "        optimizer.step()\n",
    "\n",
    "    model.eval()\n",
    "    pred = model(data).argmax(dim=1)\n",
    "    correct = (pred[data.test_mask] == data.y[data.test_mask]).sum()\n",
    "    acc = int(correct) / int(data.test_mask.sum())\n",
    "    return acc\n",
    "    #print(f'Accuracy: {acc:.4f}')"
   ]
  },
  {
   "cell_type": "code",
   "execution_count": 9,
   "metadata": {},
   "outputs": [],
   "source": [
    "lst_ts = np.array([20,40,80,120,160,200])\n",
    "trails = 10\n",
    "all_outs = []\n",
    "for ts in lst_ts:\n",
    "    out = []\n",
    "    for t in range(trails):\n",
    "        acc = run_gcn(ts)\n",
    "        #print(t,ts,acc)\n",
    "        out.append(acc)\n",
    "    all_outs.append(out)"
   ]
  },
  {
   "cell_type": "code",
   "execution_count": 11,
   "metadata": {},
   "outputs": [
    {
     "name": "stdout",
     "output_type": "stream",
     "text": [
      "[0.76028037 0.79526359 0.81936685 0.83372591 0.83986146 0.84174312] [0.01634791 0.01293855 0.01255603 0.01060228 0.01237225 0.01179453]\n"
     ]
    },
    {
     "data": {
      "image/png": "[encoded data removed]",
      "text/plain": [
       "<Figure size 432x288 with 1 Axes>"
      ]
     },
     "metadata": {
      "needs_background": "light"
     },
     "output_type": "display_data"
    }
   ],
   "source": [
    "import matplotlib.pyplot as plt \n",
    "y = np.mean(all_outs,axis=1)\n",
    "y_err = np.std(all_outs,axis=1)\n",
    "print(y,y_err)\n",
    "x_ticks = (lst_ts*c*100 )/n\n",
    "plt.plot(x_ticks,y,marker='*')\n",
    "plt.fill_between(x_ticks,y-y_err,y+y_err,alpha=0.2)\n",
    "plt.ylabel('Accuracy')\n",
    "plt.xlabel('train data(%) ')\n",
    "plt.grid()"
   ]
  }
 ],
 "metadata": {
  "interpreter": {
   "hash": "140760a31b56e8a3c5592d32072d5d912b2d41de7a4e4038746bf646420bd276"
  },
  "kernelspec": {
   "display_name": "Python 3.9.7 ('base')",
   "language": "python",
   "name": "python3"
  },
  "language_info": {
   "codemirror_mode": {
    "name": "ipython",
    "version": 3
   },
   "file_extension": ".py",
   "mimetype": "text/x-python",
   "name": "python",
   "nbconvert_exporter": "python",
   "pygments_lexer": "ipython3",
   "version": "3.9.7"
  },
  "orig_nbformat": 4
 },
 "nbformat": 4,
 "nbformat_minor": 2
}
