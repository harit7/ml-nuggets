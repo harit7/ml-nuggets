{
 "cells": [
  {
   "cell_type": "code",
   "execution_count": null,
   "metadata": {},
   "outputs": [],
   "source": [
    "!pip install torch_geometric\n",
    "!pip install torch_sparse\n",
    "!pip install torch_scatter"
   ]
  },
  {
   "cell_type": "code",
   "execution_count": 273,
   "metadata": {},
   "outputs": [],
   "source": [
    "import numpy as np\n",
    "from torch_geometric.datasets import Planetoid\n",
    "from torch import nn \n",
    "import torch.nn.functional as F\n",
    "n = 2708\n",
    "c = 7"
   ]
  },
  {
   "cell_type": "code",
   "execution_count": 272,
   "metadata": {},
   "outputs": [],
   "source": [
    "def calc_transition_mat(data,sigma=2):\n",
    "    D = torch.Tensor(n,n)\n",
    "    X = data.x\n",
    "    for i in range(n):\n",
    "        for j in range(n):\n",
    "            D[i][j] = torch.norm(X[i]-X[j])\n",
    "    W = torch.exp(-torch.square(D)/(sigma**2) )\n",
    "    T = F.normalize(W,p=1,dim=0)\n",
    "    return T"
   ]
  },
  {
   "cell_type": "code",
   "execution_count": 274,
   "metadata": {},
   "outputs": [
    {
     "data": {
      "text/plain": [
       "0.5258693808312129"
      ]
     },
     "execution_count": 274,
     "metadata": {},
     "output_type": "execute_result"
    }
   ],
   "source": [
    "def label_prop(T,train_size_per_class,max_iters=200):\n",
    "    \n",
    "    test_size = n - c*train_size_per_class\n",
    "    dataset = Planetoid(root='~/workspace/data/Cora', name='Cora',split='random',num_train_per_class=train_size_per_class,num_val=0, num_test=test_size)\n",
    "    data = dataset[0]\n",
    "\n",
    "    Y_ = F.one_hot(data.y[data.train_mask])\n",
    "    Y_ = Y_.type(torch.FloatTensor)\n",
    "    Y = torch.zeros(n,c)\n",
    "    Y[data.train_mask]= Y_\n",
    "    Y_prev = Y \n",
    "    for i in range(max_iters):\n",
    "        Y_cur = torch.matmul(T,Y_prev)\n",
    "        pred = torch.argmax(Y_cur,dim=1)\n",
    "        Y_cur[data.train_mask]= Y_\n",
    "        Y_cur =  F.normalize(Y_cur,p=1,dim=1)\n",
    "        correct = (pred[data.test_mask] == data.y[data.test_mask]).sum()\n",
    "        acc = int(correct) / int(data.test_mask.sum())\n",
    "        #print(acc)\n",
    "        d = torch.norm(Y_cur-Y_prev)\n",
    "        if(d<=1e-4):\n",
    "            break\n",
    "        Y_prev = Y_cur\n",
    "    return acc \n",
    "label_prop(T,50)"
   ]
  },
  {
   "cell_type": "code",
   "execution_count": 275,
   "metadata": {},
   "outputs": [],
   "source": [
    "lst_ts = np.array([20,40,80,120,160,200])\n",
    "trails = 10\n",
    "all_outs = []\n",
    "for ts in lst_ts:\n",
    "    out = []\n",
    "    for t in range(trails):\n",
    "        acc = label_prop(T,ts)\n",
    "        #print(t,ts,acc)\n",
    "        out.append(acc)\n",
    "    all_outs.append(out)"
   ]
  },
  {
   "cell_type": "code",
   "execution_count": 277,
   "metadata": {},
   "outputs": [
    {
     "name": "stdout",
     "output_type": "stream",
     "text": [
      "[0.24373053 0.42454695 0.60796089 0.67457173 0.71429471 0.73470948] [0.08441222 0.07761855 0.03949409 0.0199219  0.01576837 0.02131643]\n"
     ]
    },
    {
     "data": {
      "image/png": "[encoded data removed]",
      "text/plain": [
       "<Figure size 432x288 with 1 Axes>"
      ]
     },
     "metadata": {
      "needs_background": "light"
     },
     "output_type": "display_data"
    }
   ],
   "source": [
    "y = np.mean(all_outs,axis=1)\n",
    "y_err = np.std(all_outs,axis=1)\n",
    "print(y,y_err)\n",
    "x_ticks = (lst_ts*c*100 )/n\n",
    "plt.plot(x_ticks,y,marker='*')\n",
    "plt.fill_between(x_ticks,y-y_err,y+y_err,alpha=0.2)\n",
    "plt.ylabel('Accuracy')\n",
    "plt.xlabel('train data(%) ')\n",
    "plt.grid()"
   ]
  }
 ],
 "metadata": {
  "interpreter": {
   "hash": "140760a31b56e8a3c5592d32072d5d912b2d41de7a4e4038746bf646420bd276"
  },
  "kernelspec": {
   "display_name": "Python 3.9.7 ('base')",
   "language": "python",
   "name": "python3"
  },
  "language_info": {
   "codemirror_mode": {
    "name": "ipython",
    "version": 3
   },
   "file_extension": ".py",
   "mimetype": "text/x-python",
   "name": "python",
   "nbconvert_exporter": "python",
   "pygments_lexer": "ipython3",
   "version": "3.9.7"
  },
  "orig_nbformat": 4
 },
 "nbformat": 4,
 "nbformat_minor": 2
}
