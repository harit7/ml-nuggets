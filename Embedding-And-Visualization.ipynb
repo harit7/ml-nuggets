{
 "cells": [
  {
   "cell_type": "markdown",
   "id": "ea098342-db48-4de8-805d-5d57efcdc584",
   "metadata": {},
   "source": [
    "# Creating 2D embeddings using TSNE to visualize the data\n",
    "It is very useful in visually seeing any patterns in the data."
   ]
  },
  {
   "cell_type": "code",
   "execution_count": 74,
   "id": "ed43b2ff-7fc2-4056-b3a8-1bbdb6c8cdf0",
   "metadata": {},
   "outputs": [],
   "source": [
    "import numpy as np\n",
    "import random\n",
    "import pandas as pd \n",
    "import altair as alt\n",
    "from sklearn.manifold import TSNE"
   ]
  },
  {
   "cell_type": "markdown",
   "id": "2a6c9591-e0cc-445d-a334-ecd711404739",
   "metadata": {},
   "source": [
    "Read words from words.txt and find unique characters in this list of words."
   ]
  },
  {
   "cell_type": "code",
   "execution_count": 12,
   "id": "7e48d96d-16fd-49b8-b857-d99da6fb633d",
   "metadata": {},
   "outputs": [],
   "source": [
    "words = []\n",
    "with open('words.txt','r') as f:\n",
    "    words = f.read().split('\\n')\n",
    "words = [w.lower() for w in words]\n",
    "unique_ch = set()\n",
    "for w in words:\n",
    "    for c in w:\n",
    "        unique_ch.add(c)\n",
    "unique_ch = list(unique_ch)\n",
    "unique_ch.sort()\n",
    "unique_ch\n",
    "c_idx_map = dict([(unique_ch[i],i) for i in range(len(unique_ch))])\n"
   ]
  },
  {
   "cell_type": "markdown",
   "id": "558af2fc-0804-467e-b39c-9b2871e5f425",
   "metadata": {},
   "source": [
    "Method to vectorize words. It is a naive method that encodes words based on the frequency of characters appearing in the word. Thus the similarity between words is going to be based on the characters appearing in the words rather than their semantics."
   ]
  },
  {
   "cell_type": "code",
   "execution_count": 59,
   "id": "2e6bbd0c-67f3-4df9-8bcc-7b7afc782484",
   "metadata": {},
   "outputs": [],
   "source": [
    "def vectorize(word,c_idx_map):\n",
    "    v = np.zeros(len(c_idx_map),dtype=float)\n",
    "    for c in word:\n",
    "        v[c_idx_map[c]]+=1\n",
    "    return v\n",
    "\n",
    "def get_k_closest(seed_word,all_word_vecs,k=100):\n",
    "    u = vectorize(seed_word,c_idx_map)\n",
    "    dists = np.array([np.linalg.norm(u-v) for v in all_word_vecs])\n",
    "    return dists.argsort()[:k]\n",
    "    "
   ]
  },
  {
   "cell_type": "markdown",
   "id": "ffaa2dbe-6973-4855-8da4-cdb9b63033bf",
   "metadata": {},
   "source": [
    "To understand clustering we are going to create a subset of words with three explicit clusters and see whether we can recover these clusters. Here we choose 'apple', 'banana' and 'kiwi' as seed words and find closest words to each of them. Since there isn't much overlap between these seed words so we should expect to see three distinct clusters."
   ]
  },
  {
   "cell_type": "code",
   "execution_count": 60,
   "id": "78f92445-dbbf-4ecb-8839-9d7581cd45be",
   "metadata": {},
   "outputs": [],
   "source": [
    "word_vectors = [vectorize(w,c_idx_map) for w in words]\n",
    "\n",
    "apple_cluster = get_k_closest('apple',word_vectors,k=100)\n",
    "banana_cluster = get_k_closest('banana',word_vectors,k=100)\n",
    "kiwi_cluster = get_k_closest('kiwi',word_vectors,k=100)\n",
    "\n",
    "h = list(apple_cluster) + list(banana_cluster) + list(kiwi_cluster)\n",
    "print(len(h))\n",
    "X = np.array([word_vectors[i] for i in h])\n",
    "lst_w = [words[i] for i in h]\n",
    "clusters = ['apple']*len(apple_cluster) + ['banana']*len(banana_cluster) + ['kiwi']*len(kiwi_cluster)"
   ]
  },
  {
   "cell_type": "markdown",
   "id": "446eae06-544f-42ab-ac13-c9a35d17d6de",
   "metadata": {},
   "source": [
    "Here we use TSNE to get 2D representation of the data points(words) so that we can visualize them. TSNE internally computes distances between the given data points and finds 2D representation such that the distances are preserved."
   ]
  },
  {
   "cell_type": "code",
   "execution_count": 66,
   "id": "5719e891-578a-4811-b72b-24e83854a12c",
   "metadata": {},
   "outputs": [
    {
     "data": {
      "text/plain": [
       "(300, 2)"
      ]
     },
     "execution_count": 66,
     "metadata": {},
     "output_type": "execute_result"
    }
   ],
   "source": [
    "X_embedded = TSNE(n_components=2, \n",
    "                   init='random').fit_transform(X)\n",
    "X_embedded.shape"
   ]
  },
  {
   "cell_type": "markdown",
   "id": "a40b7fe4-40df-4ec1-9190-83999984a906",
   "metadata": {},
   "source": [
    "Visualize the embedded data. We can clearly see three distinct clusters as expected."
   ]
  },
  {
   "cell_type": "code",
   "execution_count": 73,
   "id": "89384c35-bb6d-4440-b459-813ddb054939",
   "metadata": {},
   "outputs": [
    {
     "data": {
      "text/html": [
       "\n",
       "<div id=\"altair-viz-f16be275e4c34ae3a01bc6d4ec61a7e4\"></div>\n",
       "<script type=\"text/javascript\">\n",
       "  var VEGA_DEBUG = (typeof VEGA_DEBUG == \"undefined\") ? {} : VEGA_DEBUG;\n",
       "  (function(spec, embedOpt){\n",
       "    let outputDiv = document.currentScript.previousElementSibling;\n",
       "    if (outputDiv.id !== \"altair-viz-f16be275e4c34ae3a01bc6d4ec61a7e4\") {\n",
       "      outputDiv = document.getElementById(\"altair-viz-f16be275e4c34ae3a01bc6d4ec61a7e4\");\n",
       "    }\n",
       "    const paths = {\n",
       "      \"vega\": \"https://cdn.jsdelivr.net/npm//vega@5?noext\",\n",
       "      \"vega-lib\": \"https://cdn.jsdelivr.net/npm//vega-lib?noext\",\n",
       "      \"vega-lite\": \"https://cdn.jsdelivr.net/npm//vega-lite@4.17.0?noext\",\n",
       "      \"vega-embed\": \"https://cdn.jsdelivr.net/npm//vega-embed@6?noext\",\n",
       "    };\n",
       "\n",
       "    function maybeLoadScript(lib, version) {\n",
       "      var key = `${lib.replace(\"-\", \"\")}_version`;\n",
       "      return (VEGA_DEBUG[key] == version) ?\n",
       "        Promise.resolve(paths[lib]) :\n",
       "        new Promise(function(resolve, reject) {\n",
       "          var s = document.createElement('script');\n",
       "          document.getElementsByTagName(\"head\")[0].appendChild(s);\n",
       "          s.async = true;\n",
       "          s.onload = () => {\n",
       "            VEGA_DEBUG[key] = version;\n",
       "            return resolve(paths[lib]);\n",
       "          };\n",
       "          s.onerror = () => reject(`Error loading script: ${paths[lib]}`);\n",
       "          s.src = paths[lib];\n",
       "        });\n",
       "    }\n",
       "\n",
       "    function showError(err) {\n",
       "      outputDiv.innerHTML = `<div class=\"error\" style=\"color:red;\">${err}</div>`;\n",
       "      throw err;\n",
       "    }\n",
       "\n",
       "    function displayChart(vegaEmbed) {\n",
       "      vegaEmbed(outputDiv, spec, embedOpt)\n",
       "        .catch(err => showError(`Javascript Error: ${err.message}<br>This usually means there's a typo in your chart specification. See the javascript console for the full traceback.`));\n",
       "    }\n",
       "\n",
       "    if(typeof define === \"function\" && define.amd) {\n",
       "      requirejs.config({paths});\n",
       "      require([\"vega-embed\"], displayChart, err => showError(`Error loading script: ${err.message}`));\n",
       "    } else {\n",
       "      maybeLoadScript(\"vega\", \"5\")\n",
       "        .then(() => maybeLoadScript(\"vega-lite\", \"4.17.0\"))\n",
       "        .then(() => maybeLoadScript(\"vega-embed\", \"6\"))\n",
       "        .catch(showError)\n",
       "        .then(() => displayChart(vegaEmbed));\n",
       "    }\n",
       "  })({\"config\": {\"view\": {\"continuousWidth\": 400, \"continuousHeight\": 300}}, \"data\": {\"name\": \"data-6aca3c674f749820bb949ddaa2542d39\"}, \"mark\": {\"type\": \"circle\", \"size\": 60}, \"encoding\": {\"color\": {\"field\": \"Center\", \"type\": \"nominal\"}, \"tooltip\": [{\"field\": \"Word\", \"type\": \"nominal\"}], \"x\": {\"field\": \"X\", \"type\": \"quantitative\"}, \"y\": {\"field\": \"Y\", \"type\": \"quantitative\"}}, \"selection\": {\"selector008\": {\"type\": \"interval\", \"bind\": \"scales\", \"encodings\": [\"x\", \"y\"]}}, \"$schema\": \"https://vega.github.io/schema/vega-lite/v4.17.0.json\", \"datasets\": {\"data-6aca3c674f749820bb949ddaa2542d39\": [{\"X\": -23.651411056518555, \"Y\": -15.32853889465332, \"Word\": \"apple\", \"Center\": \"apple\"}, {\"X\": -23.651355743408203, \"Y\": -15.328521728515625, \"Word\": \"pepla\", \"Center\": \"apple\"}, {\"X\": -23.651405334472656, \"Y\": -15.32853889465332, \"Word\": \"appel\", \"Center\": \"apple\"}, {\"X\": -27.602331161499023, \"Y\": -11.088469505310059, \"Word\": \"alep\", \"Center\": \"apple\"}, {\"X\": -19.998592376708984, \"Y\": -17.364662170410156, \"Word\": \"lapped\", \"Center\": \"apple\"}, {\"X\": -21.544132232666016, \"Y\": -12.295005798339844, \"Word\": \"appl\", \"Center\": \"apple\"}, {\"X\": -25.969024658203125, \"Y\": -18.832792282104492, \"Word\": \"lapper\", \"Center\": \"apple\"}, {\"X\": -29.107105255126953, \"Y\": -17.259641647338867, \"Word\": \"aleppo\", \"Center\": \"apple\"}, {\"X\": -19.998929977416992, \"Y\": -17.364517211914062, \"Word\": \"appled\", \"Center\": \"apple\"}, {\"X\": -22.28738784790039, \"Y\": -15.871252059936523, \"Word\": \"papule\", \"Center\": \"apple\"}, {\"X\": -21.544132232666016, \"Y\": -12.295005798339844, \"Word\": \"palp\", \"Center\": \"apple\"}, {\"X\": -27.812053680419922, \"Y\": -11.361356735229492, \"Word\": \"leap\", \"Center\": \"apple\"}, {\"X\": -22.564298629760742, \"Y\": -18.210615158081055, \"Word\": \"apples\", \"Center\": \"apple\"}, {\"X\": -24.137414932250977, \"Y\": -17.07343101501465, \"Word\": \"appale\", \"Center\": \"apple\"}, {\"X\": -22.563861846923828, \"Y\": -18.20990753173828, \"Word\": \"appels\", \"Center\": \"apple\"}, {\"X\": -24.47490882873535, \"Y\": -8.791520118713379, \"Word\": \"lappet\", \"Center\": \"apple\"}, {\"X\": -21.544132232666016, \"Y\": -12.295005798339844, \"Word\": \"plap\", \"Center\": \"apple\"}, {\"X\": -27.85629653930664, \"Y\": -11.013899803161621, \"Word\": \"lepa\", \"Center\": \"apple\"}, {\"X\": -22.287395477294922, \"Y\": -15.870502471923828, \"Word\": \"upleap\", \"Center\": \"apple\"}, {\"X\": -26.009727478027344, \"Y\": -15.515298843383789, \"Word\": \"pape\", \"Center\": \"apple\"}, {\"X\": -27.953495025634766, \"Y\": -11.1290864944458, \"Word\": \"pale\", \"Center\": \"apple\"}, {\"X\": -23.133935928344727, \"Y\": -14.74039363861084, \"Word\": \"kappel\", \"Center\": \"apple\"}, {\"X\": -27.812644958496094, \"Y\": -11.36123275756836, \"Word\": \"peal\", \"Center\": \"apple\"}, {\"X\": -24.140148162841797, \"Y\": -17.073570251464844, \"Word\": \"appeal\", \"Center\": \"apple\"}, {\"X\": -27.593618392944336, \"Y\": -11.111923217773438, \"Word\": \"plea\", \"Center\": \"apple\"}, {\"X\": -24.042978286743164, \"Y\": -13.613205909729004, \"Word\": \"capple\", \"Center\": \"apple\"}, {\"X\": -20.38994789123535, \"Y\": -14.527145385742188, \"Word\": \"lepp\", \"Center\": \"apple\"}, {\"X\": -25.96767234802246, \"Y\": -18.832904815673828, \"Word\": \"rappel\", \"Center\": \"apple\"}, {\"X\": -21.546958923339844, \"Y\": -12.295275688171387, \"Word\": \"lapp\", \"Center\": \"apple\"}, {\"X\": -19.998573303222656, \"Y\": -17.364669799804688, \"Word\": \"dapple\", \"Center\": \"apple\"}, {\"X\": -19.998414993286133, \"Y\": -17.364965438842773, \"Word\": \"palped\", \"Center\": \"apple\"}, {\"X\": -24.044008255004883, \"Y\": -13.613694190979004, \"Word\": \"clappe\", \"Center\": \"apple\"}, {\"X\": -24.341995239257812, \"Y\": -19.450695037841797, \"Word\": \"slapper\", \"Center\": \"apple\"}, {\"X\": -28.464107513427734, \"Y\": -13.652552604675293, \"Word\": \"speal\", \"Center\": \"apple\"}, {\"X\": -26.806434631347656, \"Y\": -11.96802806854248, \"Word\": \"paule\", \"Center\": \"apple\"}, {\"X\": -22.18943977355957, \"Y\": -20.414533615112305, \"Word\": \"appleby\", \"Center\": \"apple\"}, {\"X\": -29.64154815673828, \"Y\": -17.49195671081543, \"Word\": \"pelopea\", \"Center\": \"apple\"}, {\"X\": -20.80610466003418, \"Y\": -18.58062744140625, \"Word\": \"slapped\", \"Center\": \"apple\"}, {\"X\": -28.734901428222656, \"Y\": -13.516531944274902, \"Word\": \"slape\", \"Center\": \"apple\"}, {\"X\": -25.078777313232422, \"Y\": -15.385736465454102, \"Word\": \"pupae\", \"Center\": \"apple\"}, {\"X\": -20.026081085205078, \"Y\": -13.029661178588867, \"Word\": \"lpp\", \"Center\": \"apple\"}, {\"X\": -28.87574005126953, \"Y\": -17.762165069580078, \"Word\": \"pelopia\", \"Center\": \"apple\"}, {\"X\": -22.79977798461914, \"Y\": -20.9908504486084, \"Word\": \"playpen\", \"Center\": \"apple\"}, {\"X\": -21.17223358154297, \"Y\": -11.204534530639648, \"Word\": \"pupal\", \"Center\": \"apple\"}, {\"X\": -26.798444747924805, \"Y\": -18.90692901611328, \"Word\": \"aripple\", \"Center\": \"apple\"}, {\"X\": -21.575998306274414, \"Y\": -13.416762351989746, \"Word\": \"slapp\", \"Center\": \"apple\"}, {\"X\": -26.703489303588867, \"Y\": -20.211082458496094, \"Word\": \"crapple\", \"Center\": \"apple\"}, {\"X\": -26.0502872467041, \"Y\": -8.634503364562988, \"Word\": \"tepal\", \"Center\": \"apple\"}, {\"X\": -21.175025939941406, \"Y\": -15.159375190734863, \"Word\": \"leupp\", \"Center\": \"apple\"}, {\"X\": -25.988527297973633, \"Y\": -14.664970397949219, \"Word\": \"appet\", \"Center\": \"apple\"}, {\"X\": -29.05724334716797, \"Y\": -10.822015762329102, \"Word\": \"pella\", \"Center\": \"apple\"}, {\"X\": -25.560789108276367, \"Y\": -12.31314754486084, \"Word\": \"calpe\", \"Center\": \"apple\"}, {\"X\": -30.65252685546875, \"Y\": -14.209546089172363, \"Word\": \"alper\", \"Center\": \"apple\"}, {\"X\": -20.014631271362305, \"Y\": -13.017470359802246, \"Word\": \"plp\", \"Center\": \"apple\"}, {\"X\": -30.658193588256836, \"Y\": -14.208104133605957, \"Word\": \"pearl\", \"Center\": \"apple\"}, {\"X\": -26.070470809936523, \"Y\": -15.832696914672852, \"Word\": \"abepp\", \"Center\": \"apple\"}, {\"X\": -26.711814880371094, \"Y\": -20.21922492980957, \"Word\": \"clapper\", \"Center\": \"apple\"}, {\"X\": -19.17407989501953, \"Y\": -16.589757919311523, \"Word\": \"clapped\", \"Center\": \"apple\"}, {\"X\": -22.74091911315918, \"Y\": -12.781112670898438, \"Word\": \"clapp\", \"Center\": \"apple\"}, {\"X\": -30.758625030517578, \"Y\": -11.648484230041504, \"Word\": \"alpen\", \"Center\": \"apple\"}, {\"X\": -25.561534881591797, \"Y\": -12.313553810119629, \"Word\": \"clape\", \"Center\": \"apple\"}, {\"X\": -23.73353385925293, \"Y\": -10.72908878326416, \"Word\": \"alp\", \"Center\": \"apple\"}, {\"X\": -30.75031852722168, \"Y\": -11.650522232055664, \"Word\": \"plena\", \"Center\": \"apple\"}, {\"X\": -28.8668270111084, \"Y\": -11.960265159606934, \"Word\": \"alope\", \"Center\": \"apple\"}, {\"X\": -25.758869171142578, \"Y\": -19.491252899169922, \"Word\": \"flapper\", \"Center\": \"apple\"}, {\"X\": -25.079898834228516, \"Y\": -18.153940200805664, \"Word\": \"apparel\", \"Center\": \"apple\"}, {\"X\": -26.055837631225586, \"Y\": -8.615443229675293, \"Word\": \"palet\", \"Center\": \"apple\"}, {\"X\": -22.159353256225586, \"Y\": -17.130962371826172, \"Word\": \"papules\", \"Center\": \"apple\"}, {\"X\": -29.21156883239746, \"Y\": -16.73999786376953, \"Word\": \"papelon\", \"Center\": \"apple\"}, {\"X\": -26.691837310791016, \"Y\": -10.439729690551758, \"Word\": \"epl\", \"Center\": \"apple\"}, {\"X\": -26.84452247619629, \"Y\": -15.671427726745605, \"Word\": \"papen\", \"Center\": \"apple\"}, {\"X\": -23.246109008789062, \"Y\": -16.724197387695312, \"Word\": \"papulae\", \"Center\": \"apple\"}, {\"X\": -26.573284149169922, \"Y\": -17.46234703063965, \"Word\": \"paper\", \"Center\": \"apple\"}, {\"X\": -30.729225158691406, \"Y\": -11.669485092163086, \"Word\": \"panel\", \"Center\": \"apple\"}, {\"X\": -30.107601165771484, \"Y\": -9.29288387298584, \"Word\": \"ample\", \"Center\": \"apple\"}, {\"X\": -24.611181259155273, \"Y\": -16.771381378173828, \"Word\": \"palpate\", \"Center\": \"apple\"}, {\"X\": -27.598894119262695, \"Y\": -9.905462265014648, \"Word\": \"apfel\", \"Center\": \"apple\"}, {\"X\": -26.05023956298828, \"Y\": -8.634522438049316, \"Word\": \"pelta\", \"Center\": \"apple\"}, {\"X\": -30.10768699645996, \"Y\": -9.29052734375, \"Word\": \"lampe\", \"Center\": \"apple\"}, {\"X\": -20.80592918395996, \"Y\": -18.58033561706543, \"Word\": \"dapples\", \"Center\": \"apple\"}, {\"X\": -20.51945686340332, \"Y\": -11.773214340209961, \"Word\": \"apply\", \"Center\": \"apple\"}, {\"X\": -30.72918701171875, \"Y\": -11.66935920715332, \"Word\": \"penal\", \"Center\": \"apple\"}, {\"X\": -27.101882934570312, \"Y\": -12.846339225769043, \"Word\": \"epa\", \"Center\": \"apple\"}, {\"X\": -28.520198822021484, \"Y\": -10.123269081115723, \"Word\": \"pavel\", \"Center\": \"apple\"}, {\"X\": -28.31419563293457, \"Y\": -8.535299301147461, \"Word\": \"aleph\", \"Center\": \"apple\"}, {\"X\": -19.128814697265625, \"Y\": -17.866350173950195, \"Word\": \"applied\", \"Center\": \"apple\"}, {\"X\": -19.84722328186035, \"Y\": -14.63365364074707, \"Word\": \"lippe\", \"Center\": \"apple\"}, {\"X\": -23.735939025878906, \"Y\": -10.737212181091309, \"Word\": \"pal\", \"Center\": \"apple\"}, {\"X\": -30.107603073120117, \"Y\": -9.29288387298584, \"Word\": \"elamp\", \"Center\": \"apple\"}, {\"X\": -23.735795974731445, \"Y\": -10.737249374389648, \"Word\": \"apl\", \"Center\": \"apple\"}, {\"X\": -28.463220596313477, \"Y\": -13.64140796661377, \"Word\": \"elaps\", \"Center\": \"apple\"}, {\"X\": -25.945377349853516, \"Y\": -10.955411911010742, \"Word\": \"dalpe\", \"Center\": \"apple\"}, {\"X\": -22.330768585205078, \"Y\": -11.740063667297363, \"Word\": \"ppa\", \"Center\": \"apple\"}, {\"X\": -24.14826202392578, \"Y\": -8.35417366027832, \"Word\": \"flappet\", \"Center\": \"apple\"}, {\"X\": -28.312326431274414, \"Y\": -8.535225868225098, \"Word\": \"pheal\", \"Center\": \"apple\"}, {\"X\": -24.343027114868164, \"Y\": -19.44131851196289, \"Word\": \"rappels\", \"Center\": \"apple\"}, {\"X\": -28.659564971923828, \"Y\": -13.793801307678223, \"Word\": \"leaps\", \"Center\": \"apple\"}, {\"X\": -26.050268173217773, \"Y\": -8.634552955627441, \"Word\": \"leapt\", \"Center\": \"apple\"}, {\"X\": -26.576345443725586, \"Y\": -17.461912155151367, \"Word\": \"rappe\", \"Center\": \"apple\"}, {\"X\": -28.781753540039062, \"Y\": -13.535062789916992, \"Word\": \"pleas\", \"Center\": \"apple\"}, {\"X\": -3.9135990142822266, \"Y\": 25.64099884033203, \"Word\": \"banana\", \"Center\": \"banana\"}, {\"X\": -3.913419723510742, \"Y\": 25.641063690185547, \"Word\": \"annaba\", \"Center\": \"banana\"}, {\"X\": -4.4242424964904785, \"Y\": 21.37420082092285, \"Word\": \"annabal\", \"Center\": \"banana\"}, {\"X\": -7.9640889167785645, \"Y\": 25.493431091308594, \"Word\": \"abana\", \"Center\": \"banana\"}, {\"X\": -4.059106826782227, \"Y\": 27.42739486694336, \"Word\": \"bananas\", \"Center\": \"banana\"}, {\"X\": 0.7908626198768616, \"Y\": 24.94586753845215, \"Word\": \"anana\", \"Center\": \"banana\"}, {\"X\": -4.903932094573975, \"Y\": 25.66285514831543, \"Word\": \"rabanna\", \"Center\": \"banana\"}, {\"X\": -4.424243450164795, \"Y\": 21.374217987060547, \"Word\": \"labanna\", \"Center\": \"banana\"}, {\"X\": -3.6157419681549072, \"Y\": 23.8803653717041, \"Word\": \"banna\", \"Center\": \"banana\"}, {\"X\": -2.327786922454834, \"Y\": 27.65024185180664, \"Word\": \"bandana\", \"Center\": \"banana\"}, {\"X\": -3.422781229019165, \"Y\": 23.469730377197266, \"Word\": \"banyan\", \"Center\": \"banana\"}, {\"X\": -11.133260726928711, \"Y\": 22.740543365478516, \"Word\": \"banian\", \"Center\": \"banana\"}, {\"X\": -1.0894018411636353, \"Y\": 23.48409080505371, \"Word\": \"anan\", \"Center\": \"banana\"}, {\"X\": -7.895568370819092, \"Y\": 23.51426124572754, \"Word\": \"bataan\", \"Center\": \"banana\"}, {\"X\": 1.1830083131790161, \"Y\": 24.17978286743164, \"Word\": \"naaman\", \"Center\": \"banana\"}, {\"X\": -6.318458557128906, \"Y\": 22.623720169067383, \"Word\": \"labana\", \"Center\": \"banana\"}, {\"X\": -4.927187919616699, \"Y\": 21.436912536621094, \"Word\": \"labannah\", \"Center\": \"banana\"}, {\"X\": -2.9703688621520996, \"Y\": 28.152557373046875, \"Word\": \"bandanas\", \"Center\": \"banana\"}, {\"X\": -1.7774070501327515, \"Y\": 28.270557403564453, \"Word\": \"bandanna\", \"Center\": \"banana\"}, {\"X\": -6.2504472732543945, \"Y\": 28.299501419067383, \"Word\": \"abadan\", \"Center\": \"banana\"}, {\"X\": -7.048281192779541, \"Y\": 27.000513076782227, \"Word\": \"anabas\", \"Center\": \"banana\"}, {\"X\": 0.5250816941261292, \"Y\": 21.606229782104492, \"Word\": \"tanana\", \"Center\": \"banana\"}, {\"X\": -1.4063655138015747, \"Y\": 25.583662033081055, \"Word\": \"ananas\", \"Center\": \"banana\"}, {\"X\": -6.318457126617432, \"Y\": 22.623722076416016, \"Word\": \"anabal\", \"Center\": \"banana\"}, {\"X\": 1.7395985126495361, \"Y\": 23.108829498291016, \"Word\": \"raanan\", \"Center\": \"banana\"}, {\"X\": -10.728667259216309, \"Y\": 25.354257583618164, \"Word\": \"banaba\", \"Center\": \"banana\"}, {\"X\": -9.465269088745117, \"Y\": 23.8344669342041, \"Word\": \"bana\", \"Center\": \"banana\"}, {\"X\": -4.176898002624512, \"Y\": 28.012889862060547, \"Word\": \"banana's\", \"Center\": \"banana\"}, {\"X\": 2.4923195838928223, \"Y\": 25.342308044433594, \"Word\": \"canaan\", \"Center\": \"banana\"}, {\"X\": -1.0893057584762573, \"Y\": 23.481918334960938, \"Word\": \"nana\", \"Center\": \"banana\"}, {\"X\": 1.1967220306396484, \"Y\": 24.181142807006836, \"Word\": \"manana\", \"Center\": \"banana\"}, {\"X\": -9.167214393615723, \"Y\": 27.472591400146484, \"Word\": \"canaba\", \"Center\": \"banana\"}, {\"X\": -0.5488266944885254, \"Y\": 27.062715530395508, \"Word\": \"ananda\", \"Center\": \"banana\"}, {\"X\": -4.444637298583984, \"Y\": 23.91359519958496, \"Word\": \"namban\", \"Center\": \"banana\"}, {\"X\": -6.5303144454956055, \"Y\": 25.777467727661133, \"Word\": \"araban\", \"Center\": \"banana\"}, {\"X\": -7.365777015686035, \"Y\": 20.329986572265625, \"Word\": \"bantayan\", \"Center\": \"banana\"}, {\"X\": -9.464162826538086, \"Y\": 23.834997177124023, \"Word\": \"anba\", \"Center\": \"banana\"}, {\"X\": -3.0437405109405518, \"Y\": 25.942060470581055, \"Word\": \"anabaena\", \"Center\": \"banana\"}, {\"X\": 0.5253741145133972, \"Y\": 21.606069564819336, \"Word\": \"ananta\", \"Center\": \"banana\"}, {\"X\": 0.1302361935377121, \"Y\": 25.33681297302246, \"Word\": \"ananna\", \"Center\": \"banana\"}, {\"X\": -8.648628234863281, \"Y\": 25.1356258392334, \"Word\": \"habana\", \"Center\": \"banana\"}, {\"X\": -0.5488263368606567, \"Y\": 27.062715530395508, \"Word\": \"danaan\", \"Center\": \"banana\"}, {\"X\": 1.578261375427246, \"Y\": 25.607439041137695, \"Word\": \"nagana\", \"Center\": \"banana\"}, {\"X\": -8.075618743896484, \"Y\": 21.54973602294922, \"Word\": \"bannat\", \"Center\": \"banana\"}, {\"X\": -9.906963348388672, \"Y\": 25.401870727539062, \"Word\": \"anabia\", \"Center\": \"banana\"}, {\"X\": -6.5871806144714355, \"Y\": 20.162261962890625, \"Word\": \"nabatean\", \"Center\": \"banana\"}, {\"X\": -0.5488263368606567, \"Y\": 27.062715530395508, \"Word\": \"annada\", \"Center\": \"banana\"}, {\"X\": -7.488965034484863, \"Y\": 24.763734817504883, \"Word\": \"abakan\", \"Center\": \"banana\"}, {\"X\": -6.318457126617432, \"Y\": 22.623720169067383, \"Word\": \"albana\", \"Center\": \"banana\"}, {\"X\": -1.857456088066101, \"Y\": 20.685514450073242, \"Word\": \"alanna\", \"Center\": \"banana\"}, {\"X\": -6.318457126617432, \"Y\": 22.623720169067383, \"Word\": \"nabala\", \"Center\": \"banana\"}, {\"X\": -1.0893056392669678, \"Y\": 23.48192024230957, \"Word\": \"anna\", \"Center\": \"banana\"}, {\"X\": -4.450527191162109, \"Y\": 27.40349578857422, \"Word\": \"anabasin\", \"Center\": \"banana\"}, {\"X\": -9.168004989624023, \"Y\": 27.47248077392578, \"Word\": \"cabana\", \"Center\": \"banana\"}, {\"X\": -9.1680269241333, \"Y\": 27.47252655029297, \"Word\": \"cabaan\", \"Center\": \"banana\"}, {\"X\": -3.6755805015563965, \"Y\": 20.766117095947266, \"Word\": \"albanian\", \"Center\": \"banana\"}, {\"X\": -4.834341049194336, \"Y\": 20.262584686279297, \"Word\": \"annabela\", \"Center\": \"banana\"}, {\"X\": -7.0483222007751465, \"Y\": 27.002586364746094, \"Word\": \"sabana\", \"Center\": \"banana\"}, {\"X\": -6.250450134277344, \"Y\": 28.299388885498047, \"Word\": \"nadaba\", \"Center\": \"banana\"}, {\"X\": -8.063920021057129, \"Y\": 25.902732849121094, \"Word\": \"abanga\", \"Center\": \"banana\"}, {\"X\": 1.3543486595153809, \"Y\": 27.012548446655273, \"Word\": \"zanana\", \"Center\": \"banana\"}, {\"X\": 1.4902446269989014, \"Y\": 27.440114974975586, \"Word\": \"azana\", \"Center\": \"banana\"}, {\"X\": -9.736584663391113, \"Y\": 23.274272918701172, \"Word\": \"ubana\", \"Center\": \"banana\"}, {\"X\": 0.12155347317457199, \"Y\": 25.57633399963379, \"Word\": \"annawan\", \"Center\": \"banana\"}, {\"X\": -8.714278221130371, \"Y\": 22.570512771606445, \"Word\": \"banat\", \"Center\": \"banana\"}, {\"X\": 3.0859687328338623, \"Y\": 24.131296157836914, \"Word\": \"anapnea\", \"Center\": \"banana\"}, {\"X\": -10.043068885803223, \"Y\": 27.818389892578125, \"Word\": \"bacauan\", \"Center\": \"banana\"}, {\"X\": -7.564004898071289, \"Y\": 24.120601654052734, \"Word\": \"batakan\", \"Center\": \"banana\"}, {\"X\": -4.671082973480225, \"Y\": 23.817546844482422, \"Word\": \"bankman\", \"Center\": \"banana\"}, {\"X\": -1.04859459400177, \"Y\": 22.830373764038086, \"Word\": \"janna\", \"Center\": \"banana\"}, {\"X\": -0.5040659308433533, \"Y\": 24.351470947265625, \"Word\": \"nanna\", \"Center\": \"banana\"}, {\"X\": -10.648305892944336, \"Y\": 24.393686294555664, \"Word\": \"banba\", \"Center\": \"banana\"}, {\"X\": -9.354884147644043, \"Y\": 28.294458389282227, \"Word\": \"canabae\", \"Center\": \"banana\"}, {\"X\": -0.2519068121910095, \"Y\": 23.30083465576172, \"Word\": \"panna\", \"Center\": \"banana\"}, {\"X\": -11.012663841247559, \"Y\": 25.361772537231445, \"Word\": \"babiana\", \"Center\": \"banana\"}, {\"X\": -10.637152671813965, \"Y\": 23.5131778717041, \"Word\": \"aniba\", \"Center\": \"banana\"}, {\"X\": -9.152722358703613, \"Y\": 24.43305206298828, \"Word\": \"bahan\", \"Center\": \"banana\"}, {\"X\": -8.713971138000488, \"Y\": 22.568376541137695, \"Word\": \"batan\", \"Center\": \"banana\"}, {\"X\": -1.6807270050048828, \"Y\": 20.14446258544922, \"Word\": \"alkanna\", \"Center\": \"banana\"}, {\"X\": -11.560622215270996, \"Y\": 22.902780532836914, \"Word\": \"nibbana\", \"Center\": \"banana\"}, {\"X\": -6.562586307525635, \"Y\": 26.55338478088379, \"Word\": \"banaras\", \"Center\": \"banana\"}, {\"X\": -0.3853188157081604, \"Y\": 20.643718719482422, \"Word\": \"lantana\", \"Center\": \"banana\"}, {\"X\": -8.138457298278809, \"Y\": 27.6888484954834, \"Word\": \"cabanas\", \"Center\": \"banana\"}, {\"X\": -2.8676578998565674, \"Y\": 29.788990020751953, \"Word\": \"banande\", \"Center\": \"banana\"}, {\"X\": -8.188088417053223, \"Y\": 30.127262115478516, \"Word\": \"cantabank\", \"Center\": \"banana\"}, {\"X\": -4.62113094329834, \"Y\": 24.175424575805664, \"Word\": \"barnman\", \"Center\": \"banana\"}, {\"X\": -9.8147554397583, \"Y\": 26.72646141052246, \"Word\": \"caban\", \"Center\": \"banana\"}, {\"X\": -0.24552416801452637, \"Y\": 22.148414611816406, \"Word\": \"tanan\", \"Center\": \"banana\"}, {\"X\": -1.8147177696228027, \"Y\": 23.317739486694336, \"Word\": \"hanna\", \"Center\": \"banana\"}, {\"X\": -8.080362319946289, \"Y\": 29.955102920532227, \"Word\": \"bannack\", \"Center\": \"banana\"}, {\"X\": -1.519374132156372, \"Y\": 24.516544342041016, \"Word\": \"annas\", \"Center\": \"banana\"}, {\"X\": -1.7692159414291382, \"Y\": 21.75761604309082, \"Word\": \"annal\", \"Center\": \"banana\"}, {\"X\": -5.168844699859619, \"Y\": 26.00564193725586, \"Word\": \"fabrianna\", \"Center\": \"banana\"}, {\"X\": -2.226827383041382, \"Y\": 28.50341796875, \"Word\": \"bandannas\", \"Center\": \"banana\"}, {\"X\": 3.0066773891448975, \"Y\": 25.122961044311523, \"Word\": \"cananea\", \"Center\": \"banana\"}, {\"X\": 2.303896188735962, \"Y\": 25.725513458251953, \"Word\": \"cananga\", \"Center\": \"banana\"}, {\"X\": -4.7639641761779785, \"Y\": 19.848529815673828, \"Word\": \"annabel\", \"Center\": \"banana\"}, {\"X\": 2.0371806621551514, \"Y\": 22.814552307128906, \"Word\": \"narayan\", \"Center\": \"banana\"}, {\"X\": -1.768344521522522, \"Y\": 21.75673484802246, \"Word\": \"lanna\", \"Center\": \"banana\"}, {\"X\": -2.688843011856079, \"Y\": 20.416954040527344, \"Word\": \"annalia\", \"Center\": \"banana\"}, {\"X\": 24.899211883544922, \"Y\": -8.521958351135254, \"Word\": \"kiwi\", \"Center\": \"kiwi\"}, {\"X\": 31.173973083496094, \"Y\": -8.538116455078125, \"Word\": \"kaiwi\", \"Center\": \"kiwi\"}, {\"X\": 24.63495635986328, \"Y\": -8.863741874694824, \"Word\": \"kiwis\", \"Center\": \"kiwi\"}, {\"X\": 31.176036834716797, \"Y\": -8.539051055908203, \"Word\": \"kiwai\", \"Center\": \"kiwi\"}, {\"X\": 27.356273651123047, \"Y\": -4.067482948303223, \"Word\": \"kiri\", \"Center\": \"kiwi\"}, {\"X\": 27.24338150024414, \"Y\": -9.655665397644043, \"Word\": \"kwei\", \"Center\": \"kiwi\"}, {\"X\": 29.514144897460938, \"Y\": -4.874665260314941, \"Word\": \"viki\", \"Center\": \"kiwi\"}, {\"X\": 22.529869079589844, \"Y\": -8.738869667053223, \"Word\": \"wini\", \"Center\": \"kiwi\"}, {\"X\": 27.959585189819336, \"Y\": -7.2196831703186035, \"Word\": \"ki\", \"Center\": \"kiwi\"}, {\"X\": 27.24336051940918, \"Y\": -9.655747413635254, \"Word\": \"weki\", \"Center\": \"kiwi\"}, {\"X\": 27.35323143005371, \"Y\": -4.068194389343262, \"Word\": \"riki\", \"Center\": \"kiwi\"}, {\"X\": 30.310731887817383, \"Y\": -9.92743968963623, \"Word\": \"waki\", \"Center\": \"kiwi\"}, {\"X\": 24.742393493652344, \"Y\": -4.413501739501953, \"Word\": \"niki\", \"Center\": \"kiwi\"}, {\"X\": 32.13733673095703, \"Y\": -8.412023544311523, \"Word\": \"wakiki\", \"Center\": \"kiwi\"}, {\"X\": 27.937177658081055, \"Y\": -1.24452805519104, \"Word\": \"witkin\", \"Center\": \"kiwi\"}, {\"X\": 26.129364013671875, \"Y\": -2.8184921741485596, \"Word\": \"miki\", \"Center\": \"kiwi\"}, {\"X\": 26.516807556152344, \"Y\": -5.0472517013549805, \"Word\": \"kiyi\", \"Center\": \"kiwi\"}, {\"X\": 25.159255981445312, \"Y\": -11.973060607910156, \"Word\": \"wi\", \"Center\": \"kiwi\"}, {\"X\": 25.40822982788086, \"Y\": -5.455379486083984, \"Word\": \"piki\", \"Center\": \"kiwi\"}, {\"X\": 30.310386657714844, \"Y\": -9.925577163696289, \"Word\": \"wiak\", \"Center\": \"kiwi\"}, {\"X\": 22.645132064819336, \"Y\": -11.296337127685547, \"Word\": \"wwii\", \"Center\": \"kiwi\"}, {\"X\": 25.81638526916504, \"Y\": -9.592717170715332, \"Word\": \"wink\", \"Center\": \"kiwi\"}, {\"X\": 22.495445251464844, \"Y\": -9.713553428649902, \"Word\": \"iiwi\", \"Center\": \"kiwi\"}, {\"X\": 21.481945037841797, \"Y\": -6.531797885894775, \"Word\": \"wilkin\", \"Center\": \"kiwi\"}, {\"X\": 25.15919303894043, \"Y\": -11.973142623901367, \"Word\": \"iw\", \"Center\": \"kiwi\"}, {\"X\": 24.274948120117188, \"Y\": -6.545542240142822, \"Word\": \"ii\", \"Center\": \"kiwi\"}, {\"X\": 28.214616775512695, \"Y\": -0.26099658012390137, \"Word\": \"kiewit\", \"Center\": \"kiwi\"}, {\"X\": 27.959056854248047, \"Y\": -7.22092342376709, \"Word\": \"ik\", \"Center\": \"kiwi\"}, {\"X\": 23.98855209350586, \"Y\": -9.326930046081543, \"Word\": \"iwis\", \"Center\": \"kiwi\"}, {\"X\": 22.523479461669922, \"Y\": -4.795453071594238, \"Word\": \"inwick\", \"Center\": \"kiwi\"}, {\"X\": 29.570587158203125, \"Y\": -3.6459789276123047, \"Word\": \"kiki\", \"Center\": \"kiwi\"}, {\"X\": 28.36382484436035, \"Y\": -9.367713928222656, \"Word\": \"wilk\", \"Center\": \"kiwi\"}, {\"X\": 25.80828285217285, \"Y\": -1.4349772930145264, \"Word\": \"wimick\", \"Center\": \"kiwi\"}, {\"X\": 22.644309997558594, \"Y\": -11.29621410369873, \"Word\": \"wiwi\", \"Center\": \"kiwi\"}, {\"X\": 22.222457885742188, \"Y\": -7.366633892059326, \"Word\": \"kirwin\", \"Center\": \"kiwi\"}, {\"X\": 27.67235565185547, \"Y\": -11.173321723937988, \"Word\": \"wick\", \"Center\": \"kiwi\"}, {\"X\": 29.078462600708008, \"Y\": -1.5598849058151245, \"Word\": \"kikwit\", \"Center\": \"kiwi\"}, {\"X\": 21.65219497680664, \"Y\": -2.3321170806884766, \"Word\": \"wikiup\", \"Center\": \"kiwi\"}, {\"X\": 21.723196029663086, \"Y\": -5.382694244384766, \"Word\": \"wiking\", \"Center\": \"kiwi\"}, {\"X\": 30.310731887817383, \"Y\": -9.927438735961914, \"Word\": \"waik\", \"Center\": \"kiwi\"}, {\"X\": 28.04364013671875, \"Y\": -2.530255079269409, \"Word\": \"tiki\", \"Center\": \"kiwi\"}, {\"X\": 19.86102867126465, \"Y\": -7.051211833953857, \"Word\": \"wilkie\", \"Center\": \"kiwi\"}, {\"X\": 27.671627044677734, \"Y\": -11.171591758728027, \"Word\": \"kwic\", \"Center\": \"kiwi\"}, {\"X\": 21.93076515197754, \"Y\": -4.975191116333008, \"Word\": \"wicking\", \"Center\": \"kiwi\"}, {\"X\": 28.00582504272461, \"Y\": -11.894783020019531, \"Word\": \"wicky\", \"Center\": \"kiwi\"}, {\"X\": 26.811717987060547, \"Y\": -7.979692459106445, \"Word\": \"ski\", \"Center\": \"kiwi\"}, {\"X\": 21.629066467285156, \"Y\": -2.3203837871551514, \"Word\": \"wickiup\", \"Center\": \"kiwi\"}, {\"X\": 24.003067016601562, \"Y\": -5.968274116516113, \"Word\": \"ici\", \"Center\": \"kiwi\"}, {\"X\": 27.616445541381836, \"Y\": -4.204476833343506, \"Word\": \"ricki\", \"Center\": \"kiwi\"}, {\"X\": 28.209741592407227, \"Y\": -11.261322021484375, \"Word\": \"wicks\", \"Center\": \"kiwi\"}, {\"X\": 24.656702041625977, \"Y\": -12.04309368133545, \"Word\": \"tiw\", \"Center\": \"kiwi\"}, {\"X\": 25.309717178344727, \"Y\": -11.095004081726074, \"Word\": \"wsi\", \"Center\": \"kiwi\"}, {\"X\": 24.58550453186035, \"Y\": -10.784217834472656, \"Word\": \"win\", \"Center\": \"kiwi\"}, {\"X\": 26.783960342407227, \"Y\": -6.6707444190979, \"Word\": \"kin\", \"Center\": \"kiwi\"}, {\"X\": 22.218156814575195, \"Y\": -8.22382926940918, \"Word\": \"irwin\", \"Center\": \"kiwi\"}, {\"X\": 24.23800277709961, \"Y\": -6.674691677093506, \"Word\": \"xii\", \"Center\": \"kiwi\"}, {\"X\": 28.703399658203125, \"Y\": -7.638504981994629, \"Word\": \"kci\", \"Center\": \"kiwi\"}, {\"X\": 28.763080596923828, \"Y\": -6.892533302307129, \"Word\": \"koi\", \"Center\": \"kiwi\"}, {\"X\": 30.011600494384766, \"Y\": -3.47271990776062, \"Word\": \"kikoi\", \"Center\": \"kiwi\"}, {\"X\": 23.86867332458496, \"Y\": -6.693969249725342, \"Word\": \"ihi\", \"Center\": \"kiwi\"}, {\"X\": 25.885337829589844, \"Y\": -4.257449626922607, \"Word\": \"kirin\", \"Center\": \"kiwi\"}, {\"X\": 26.7844295501709, \"Y\": -6.6701273918151855, \"Word\": \"ink\", \"Center\": \"kiwi\"}, {\"X\": 24.31615447998047, \"Y\": -2.616605520248413, \"Word\": \"fikie\", \"Center\": \"kiwi\"}, {\"X\": 24.46776008605957, \"Y\": -3.7224700450897217, \"Word\": \"inkie\", \"Center\": \"kiwi\"}, {\"X\": 29.57695960998535, \"Y\": -5.1117095947265625, \"Word\": \"vicki\", \"Center\": \"kiwi\"}, {\"X\": 31.498123168945312, \"Y\": -7.479539394378662, \"Word\": \"bakwiri\", \"Center\": \"kiwi\"}, {\"X\": 27.853971481323242, \"Y\": -2.996363401412964, \"Word\": \"kirit\", \"Center\": \"kiwi\"}, {\"X\": 28.691999435424805, \"Y\": -3.7418203353881836, \"Word\": \"rikki\", \"Center\": \"kiwi\"}, {\"X\": 30.054641723632812, \"Y\": -0.6369085311889648, \"Word\": \"witumki\", \"Center\": \"kiwi\"}, {\"X\": 29.694049835205078, \"Y\": -8.741866111755371, \"Word\": \"aik\", \"Center\": \"kiwi\"}, {\"X\": 28.95774269104004, \"Y\": -12.115673065185547, \"Word\": \"skiwy\", \"Center\": \"kiwi\"}, {\"X\": 24.318649291992188, \"Y\": -7.615991592407227, \"Word\": \"isi\", \"Center\": \"kiwi\"}, {\"X\": 25.374176025390625, \"Y\": -2.671279191970825, \"Word\": \"mikie\", \"Center\": \"kiwi\"}, {\"X\": 28.40082359313965, \"Y\": -8.384316444396973, \"Word\": \"kil\", \"Center\": \"kiwi\"}, {\"X\": 30.445011138916016, \"Y\": -0.8569100499153137, \"Word\": \"kuwaiti\", \"Center\": \"kiwi\"}, {\"X\": 27.651269912719727, \"Y\": -8.193750381469727, \"Word\": \"kei\", \"Center\": \"kiwi\"}, {\"X\": 26.81179428100586, \"Y\": -7.979865550994873, \"Word\": \"sik\", \"Center\": \"kiwi\"}, {\"X\": 27.859193801879883, \"Y\": -5.499007225036621, \"Word\": \"rik\", \"Center\": \"kiwi\"}, {\"X\": 26.424219131469727, \"Y\": -11.749815940856934, \"Word\": \"cwi\", \"Center\": \"kiwi\"}, {\"X\": 23.606698989868164, \"Y\": -12.012524604797363, \"Word\": \"wwi\", \"Center\": \"kiwi\"}, {\"X\": 23.519939422607422, \"Y\": -4.47764253616333, \"Word\": \"nicki\", \"Center\": \"kiwi\"}, {\"X\": 26.75799560546875, \"Y\": -3.308101177215576, \"Word\": \"mikir\", \"Center\": \"kiwi\"}, {\"X\": 25.571279525756836, \"Y\": -7.725436687469482, \"Word\": \"skidi\", \"Center\": \"kiwi\"}, {\"X\": 26.55402946472168, \"Y\": -12.849130630493164, \"Word\": \"iwa\", \"Center\": \"kiwi\"}, {\"X\": 22.26165771484375, \"Y\": -11.58790397644043, \"Word\": \"wi-wi\", \"Center\": \"kiwi\"}, {\"X\": 28.048654556274414, \"Y\": -6.3779706954956055, \"Word\": \"kim\", \"Center\": \"kiwi\"}, {\"X\": 24.551570892333984, \"Y\": -12.729747772216797, \"Word\": \"wig\", \"Center\": \"kiwi\"}, {\"X\": 32.51560974121094, \"Y\": -8.557700157165527, \"Word\": \"wakikis\", \"Center\": \"kiwi\"}, {\"X\": 25.543453216552734, \"Y\": -12.466543197631836, \"Word\": \"iow\", \"Center\": \"kiwi\"}, {\"X\": 24.336355209350586, \"Y\": -2.644636869430542, \"Word\": \"bikie\", \"Center\": \"kiwi\"}, {\"X\": 30.85719108581543, \"Y\": -10.743487358093262, \"Word\": \"wakif\", \"Center\": \"kiwi\"}, {\"X\": 31.142332077026367, \"Y\": -10.149800300598145, \"Word\": \"wakhi\", \"Center\": \"kiwi\"}, {\"X\": 29.925703048706055, \"Y\": -10.791585922241211, \"Word\": \"kiswa\", \"Center\": \"kiwi\"}, {\"X\": 25.168777465820312, \"Y\": -12.996485710144043, \"Word\": \"dwi\", \"Center\": \"kiwi\"}, {\"X\": 19.7149600982666, \"Y\": -6.881981372833252, \"Word\": \"wiglike\", \"Center\": \"kiwi\"}, {\"X\": 19.802749633789062, \"Y\": -7.311554431915283, \"Word\": \"swilkie\", \"Center\": \"kiwi\"}, {\"X\": 24.854585647583008, \"Y\": -5.958308219909668, \"Word\": \"ipi\", \"Center\": \"kiwi\"}, {\"X\": 29.907636642456055, \"Y\": -4.275162696838379, \"Word\": \"vikki\", \"Center\": \"kiwi\"}, {\"X\": 25.979230880737305, \"Y\": -1.9083565473556519, \"Word\": \"micki\", \"Center\": \"kiwi\"}, {\"X\": 28.16604232788086, \"Y\": -0.04102887958288193, \"Word\": \"wiikite\", \"Center\": \"kiwi\"}]}}, {\"mode\": \"vega-lite\"});\n",
       "</script>"
      ],
      "text/plain": [
       "alt.Chart(...)"
      ]
     },
     "execution_count": 73,
     "metadata": {},
     "output_type": "execute_result"
    }
   ],
   "source": [
    "\n",
    "source = {'X':X_embedded[:,0],'Y':X_embedded[:,1],'Word':lst_w,'Center':clusters}\n",
    "source = pd.DataFrame(source)\n",
    "alt.Chart(source).mark_circle(size=60).encode(\n",
    "    x='X',\n",
    "    y='Y',\n",
    "    color='Center',\n",
    "    tooltip=['Word']\n",
    ").interactive()"
   ]
  },
  {
   "cell_type": "code",
   "execution_count": null,
   "id": "3e8dd0f1-ff48-4e22-999b-665dfde021a5",
   "metadata": {},
   "outputs": [],
   "source": []
  }
 ],
 "metadata": {
  "kernelspec": {
   "display_name": "Python 3 (ipykernel)",
   "language": "python",
   "name": "python3"
  },
  "language_info": {
   "codemirror_mode": {
    "name": "ipython",
    "version": 3
   },
   "file_extension": ".py",
   "mimetype": "text/x-python",
   "name": "python",
   "nbconvert_exporter": "python",
   "pygments_lexer": "ipython3",
   "version": "3.9.7"
  }
 },
 "nbformat": 4,
 "nbformat_minor": 5
}
